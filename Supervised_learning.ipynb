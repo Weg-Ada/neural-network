{
  "nbformat": 4,
  "nbformat_minor": 0,
  "metadata": {
    "colab": {
      "name": "Supervised learning.ipynb",
      "provenance": [],
      "collapsed_sections": []
    },
    "kernelspec": {
      "name": "python3",
      "display_name": "Python 3"
    }
  },
  "cells": [
    {
      "cell_type": "markdown",
      "metadata": {
        "id": "KkzwBATBosAT"
      },
      "source": [
        "# Supervised learning (neural network)"
      ]
    },
    {
      "cell_type": "code",
      "metadata": {
        "id": "GbPDBsxVYzn_"
      },
      "source": [
        "import numpy as np\n",
        "import pandas as pd"
      ],
      "execution_count": null,
      "outputs": []
    },
    {
      "cell_type": "code",
      "metadata": {
        "id": "SR01MZNed-ZW",
        "colab": {
          "resources": {
            "http://localhost:8080/nbextensions/google.colab/files.js": {
              "data": "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",
              "ok": true,
              "headers": [
                [
                  "content-type",
                  "application/javascript"
                ]
              ],
              "status": 200,
              "status_text": "OK"
            }
          },
          "base_uri": "https://localhost:8080/",
          "height": 92
        },
        "outputId": "8c42d655-8fb9-4091-c5a5-646a820075ea"
      },
      "source": [
        "from google.colab import files\n",
        "uploaded = files.upload()\n",
        "for fn in uploaded.keys():\n",
        "  print('The user has loaded the data file \"{name}\" with a length of {length} bits'.format(\n",
        "      name=fn, length=len(uploaded[fn])))"
      ],
      "execution_count": null,
      "outputs": [
        {
          "output_type": "display_data",
          "data": {
            "text/html": [
              "\n",
              "     <input type=\"file\" id=\"files-cbd04501-2044-4d05-b9a3-3a8d576ef4b3\" name=\"files[]\" multiple disabled\n",
              "        style=\"border:none\" />\n",
              "     <output id=\"result-cbd04501-2044-4d05-b9a3-3a8d576ef4b3\">\n",
              "      Upload widget is only available when the cell has been executed in the\n",
              "      current browser session. Please rerun this cell to enable.\n",
              "      </output>\n",
              "      <script src=\"/nbextensions/google.colab/files.js\"></script> "
            ],
            "text/plain": [
              "<IPython.core.display.HTML object>"
            ]
          },
          "metadata": {
            "tags": []
          }
        },
        {
          "output_type": "stream",
          "text": [
            "Saving heart.csv to heart.csv\n",
            "The user has loaded the data file \"heart.csv\" with a length of 38114 bits\n"
          ],
          "name": "stdout"
        }
      ]
    },
    {
      "cell_type": "markdown",
      "metadata": {
        "id": "tJDh9eJEbboo"
      },
      "source": [
        "#Attribute Information\n",
        "\n",
        "* age\n",
        "* sex\n",
        "* chest pain type (4 values)\n",
        "* resting blood pressure\n",
        "* serum cholestoral in mg/dl\n",
        "* fasting blood sugar > 120 mg/dl\n",
        "* resting electrocardiographic results (values 0,1,2)\n",
        "* maximum heart rate achieved\n",
        "* exercise induced angina\n",
        "* oldpeak = ST depression induced by exercise relative to rest\n",
        "* the slope of the peak exercise ST segment\n",
        "* number of major vessels (0-3) colored by flourosopy\n",
        "* thal: 3 = normal; 6 = fixed defect; 7 = reversable defect"
      ]
    },
    {
      "cell_type": "code",
      "metadata": {
        "id": "LVa1_0AOe-N5"
      },
      "source": [
        "#Loading data\n",
        "dataset = pd.read_csv('heart.csv')"
      ],
      "execution_count": null,
      "outputs": []
    },
    {
      "cell_type": "code",
      "metadata": {
        "id": "eYUv8YntfMTg"
      },
      "source": [
        "import matplotlib.pyplot as plt"
      ],
      "execution_count": null,
      "outputs": []
    },
    {
      "cell_type": "code",
      "metadata": {
        "id": "l6hrYR2DfT18",
        "colab": {
          "base_uri": "https://localhost:8080/",
          "height": 970
        },
        "outputId": "3d1ab748-2372-4093-903c-88b130fb2367"
      },
      "source": [
        "#Columns and rows in the data\n",
        "print(dataset.shape)\n",
        "#Top 10 rows\n",
        "print(dataset.head(10))\n",
        "#Main data matrices\n",
        "print(dataset.describe())\n",
        "#Class distribution\n",
        "from pylab import rcParams\n",
        "rcParams['figure.figsize'] = 10, 7\n",
        "print(dataset.groupby('target').size())\n",
        "dataset['target'].value_counts().plot.bar()"
      ],
      "execution_count": null,
      "outputs": [
        {
          "output_type": "stream",
          "text": [
            "(1025, 14)\n",
            "   age  sex  cp  trestbps  chol  fbs  ...  exang  oldpeak  slope  ca  thal  target\n",
            "0   52    1   0       125   212    0  ...      0      1.0      2   2     3       0\n",
            "1   53    1   0       140   203    1  ...      1      3.1      0   0     3       0\n",
            "2   70    1   0       145   174    0  ...      1      2.6      0   0     3       0\n",
            "3   61    1   0       148   203    0  ...      0      0.0      2   1     3       0\n",
            "4   62    0   0       138   294    1  ...      0      1.9      1   3     2       0\n",
            "5   58    0   0       100   248    0  ...      0      1.0      1   0     2       1\n",
            "6   58    1   0       114   318    0  ...      0      4.4      0   3     1       0\n",
            "7   55    1   0       160   289    0  ...      1      0.8      1   1     3       0\n",
            "8   46    1   0       120   249    0  ...      0      0.8      2   0     3       0\n",
            "9   54    1   0       122   286    0  ...      1      3.2      1   2     2       0\n",
            "\n",
            "[10 rows x 14 columns]\n",
            "               age          sex  ...         thal       target\n",
            "count  1025.000000  1025.000000  ...  1025.000000  1025.000000\n",
            "mean     54.434146     0.695610  ...     2.323902     0.513171\n",
            "std       9.072290     0.460373  ...     0.620660     0.500070\n",
            "min      29.000000     0.000000  ...     0.000000     0.000000\n",
            "25%      48.000000     0.000000  ...     2.000000     0.000000\n",
            "50%      56.000000     1.000000  ...     2.000000     1.000000\n",
            "75%      61.000000     1.000000  ...     3.000000     1.000000\n",
            "max      77.000000     1.000000  ...     3.000000     1.000000\n",
            "\n",
            "[8 rows x 14 columns]\n",
            "target\n",
            "0    499\n",
            "1    526\n",
            "dtype: int64\n"
          ],
          "name": "stdout"
        },
        {
          "output_type": "execute_result",
          "data": {
            "text/plain": [
              "<matplotlib.axes._subplots.AxesSubplot at 0x7f6cc3679b50>"
            ]
          },
          "metadata": {
            "tags": []
          },
          "execution_count": 5
        },
        {
          "output_type": "display_data",
          "data": {
            "image/png": "[encoded data removed]",
            "text/plain": [
              "<Figure size 720x504 with 1 Axes>"
            ]
          },
          "metadata": {
            "tags": [],
            "needs_background": "light"
          }
        }
      ]
    },
    {
      "cell_type": "code",
      "metadata": {
        "id": "DAdTXQKyf-EK",
        "colab": {
          "base_uri": "https://localhost:8080/"
        },
        "outputId": "f2417319-83b7-4bb1-dcad-852050264297"
      },
      "source": [
        "print('The proportion of classes:')\n",
        "print(dataset['target'].value_counts() / len(dataset))"
      ],
      "execution_count": null,
      "outputs": [
        {
          "output_type": "stream",
          "text": [
            "The proportion of classes:\n",
            "1    0.513171\n",
            "0    0.486829\n",
            "Name: target, dtype: float64\n"
          ],
          "name": "stdout"
        }
      ]
    },
    {
      "cell_type": "code",
      "metadata": {
        "id": "e3r6__yUg0dP",
        "colab": {
          "base_uri": "https://localhost:8080/"
        },
        "outputId": "9ddf1386-9b92-42f2-a607-995f89cd0e6d"
      },
      "source": [
        "#Data types\n",
        "print(dataset.info())"
      ],
      "execution_count": null,
      "outputs": [
        {
          "output_type": "stream",
          "text": [
            "<class 'pandas.core.frame.DataFrame'>\n",
            "RangeIndex: 1025 entries, 0 to 1024\n",
            "Data columns (total 14 columns):\n",
            " #   Column    Non-Null Count  Dtype  \n",
            "---  ------    --------------  -----  \n",
            " 0   age       1025 non-null   int64  \n",
            " 1   sex       1025 non-null   int64  \n",
            " 2   cp        1025 non-null   int64  \n",
            " 3   trestbps  1025 non-null   int64  \n",
            " 4   chol      1025 non-null   int64  \n",
            " 5   fbs       1025 non-null   int64  \n",
            " 6   restecg   1025 non-null   int64  \n",
            " 7   thalach   1025 non-null   int64  \n",
            " 8   exang     1025 non-null   int64  \n",
            " 9   oldpeak   1025 non-null   float64\n",
            " 10  slope     1025 non-null   int64  \n",
            " 11  ca        1025 non-null   int64  \n",
            " 12  thal      1025 non-null   int64  \n",
            " 13  target    1025 non-null   int64  \n",
            "dtypes: float64(1), int64(13)\n",
            "memory usage: 112.2 KB\n",
            "None\n"
          ],
          "name": "stdout"
        }
      ]
    },
    {
      "cell_type": "code",
      "metadata": {
        "id": "DulAahKBhB_K",
        "colab": {
          "base_uri": "https://localhost:8080/"
        },
        "outputId": "89e3802f-6776-460e-b1f5-5c4459644858"
      },
      "source": [
        "#Number of missing data points per column\n",
        "missing_values_count = dataset.isnull().sum()\n",
        "print(missing_values_count)"
      ],
      "execution_count": null,
      "outputs": [
        {
          "output_type": "stream",
          "text": [
            "age         0\n",
            "sex         0\n",
            "cp          0\n",
            "trestbps    0\n",
            "chol        0\n",
            "fbs         0\n",
            "restecg     0\n",
            "thalach     0\n",
            "exang       0\n",
            "oldpeak     0\n",
            "slope       0\n",
            "ca          0\n",
            "thal        0\n",
            "target      0\n",
            "dtype: int64\n"
          ],
          "name": "stdout"
        }
      ]
    },
    {
      "cell_type": "code",
      "metadata": {
        "id": "us8f2EfUmyLB",
        "colab": {
          "base_uri": "https://localhost:8080/",
          "height": 716
        },
        "outputId": "9b29466b-c14b-4188-e495-1b9d487c16b9"
      },
      "source": [
        "#Histograms\n",
        "dataset.hist(figsize=(15,12),bins = 20)\n",
        "plt.title(\"Distribution features\")\n",
        "plt.show()"
      ],
      "execution_count": null,
      "outputs": [
        {
          "output_type": "display_data",
          "data": {
            "image/png": "[encoded data removed]",
            "text/plain": [
              "<Figure size 1080x864 with 16 Axes>"
            ]
          },
          "metadata": {
            "tags": [],
            "needs_background": "light"
          }
        }
      ]
    },
    {
      "cell_type": "markdown",
      "metadata": {
        "id": "18CXaUbtpXBe"
      },
      "source": [
        "#Pre-processing of data"
      ]
    },
    {
      "cell_type": "code",
      "metadata": {
        "id": "vPPJ5Zmyouf8"
      },
      "source": [
        "X = dataset.iloc[:,:-1].values\n",
        "y = dataset.iloc[:,-1].values"
      ],
      "execution_count": null,
      "outputs": []
    },
    {
      "cell_type": "code",
      "metadata": {
        "id": "q-P-CgB9oQKE"
      },
      "source": [
        "from sklearn import model_selection"
      ],
      "execution_count": null,
      "outputs": []
    },
    {
      "cell_type": "code",
      "metadata": {
        "id": "yQdKpxQ4rnzP",
        "colab": {
          "base_uri": "https://localhost:8080/"
        },
        "outputId": "0b0522ef-6d59-4fd5-cd9d-fa667011985a"
      },
      "source": [
        "splits = model_selection.train_test_split(X, y, test_size=0.25, random_state=0)\n",
        "X_train, X_test, y_train, y_test = splits\n",
        "print (X_train.shape, X_test.shape, y_train.shape, y_test.shape)"
      ],
      "execution_count": null,
      "outputs": [
        {
          "output_type": "stream",
          "text": [
            "(768, 13) (257, 13) (768,) (257,)\n"
          ],
          "name": "stdout"
        }
      ]
    },
    {
      "cell_type": "code",
      "metadata": {
        "id": "WfbuUuuFdity",
        "colab": {
          "base_uri": "https://localhost:8080/"
        },
        "outputId": "2ddd7e9a-c2b2-4964-941d-10aa01f0534b"
      },
      "source": [
        "X_train[0]"
      ],
      "execution_count": null,
      "outputs": [
        {
          "output_type": "execute_result",
          "data": {
            "text/plain": [
              "array([ 67. ,   1. ,   0. , 160. , 286. ,   0. ,   0. , 108. ,   1. ,\n",
              "         1.5,   1. ,   3. ,   2. ])"
            ]
          },
          "metadata": {
            "tags": []
          },
          "execution_count": 13
        }
      ]
    },
    {
      "cell_type": "code",
      "metadata": {
        "id": "dIHsCCAZyIg8"
      },
      "source": [
        "#The function scales the data\n",
        "from sklearn.preprocessing import StandardScaler \n",
        "sc_X = StandardScaler()\n",
        "X_train = sc_X.fit_transform(X_train)\n",
        "X_test = sc_X.transform(X_test)"
      ],
      "execution_count": null,
      "outputs": []
    },
    {
      "cell_type": "code",
      "metadata": {
        "id": "BCGr_26TdW5e",
        "colab": {
          "base_uri": "https://localhost:8080/"
        },
        "outputId": "1f5cdf4b-933b-489c-b8de-f652c02dd3f8"
      },
      "source": [
        "X_train[0]"
      ],
      "execution_count": null,
      "outputs": [
        {
          "output_type": "execute_result",
          "data": {
            "text/plain": [
              "array([ 1.3756016 ,  0.64371161, -0.92094523,  1.62858941,  0.80373723,\n",
              "       -0.42179866, -0.97469677, -1.7805804 ,  1.3937463 ,  0.41978909,\n",
              "       -0.66196846,  2.16167937, -0.52198613])"
            ]
          },
          "metadata": {
            "tags": []
          },
          "execution_count": 15
        }
      ]
    },
    {
      "cell_type": "markdown",
      "metadata": {
        "id": "enwjFspapdg5"
      },
      "source": [
        "#Construction of a neural network\n",
        "\n"
      ]
    },
    {
      "cell_type": "code",
      "metadata": {
        "id": "si-YldxBzsPQ"
      },
      "source": [
        "import keras\n",
        "keras.__version__\n",
        "from keras import models\n",
        "from keras import layers"
      ],
      "execution_count": null,
      "outputs": []
    },
    {
      "cell_type": "code",
      "metadata": {
        "id": "DMDTehHhz7ea",
        "colab": {
          "base_uri": "https://localhost:8080/"
        },
        "outputId": "21010b5a-473c-4aa1-b569-196fcf1c1882"
      },
      "source": [
        "#Two hidden layers and 13 artifacts input vector\n",
        "model = models.Sequential()\n",
        "model.add(layers.Dense(12, activation='relu', input_shape=(13,)))\n",
        "model.add(layers.Dense(12, activation='relu'))\n",
        "model.add(layers.Dense(1, activation='sigmoid'))\n",
        "\n",
        "model.compile(optimizer='rmsprop', loss='binary_crossentropy', metrics=['accuracy'])\n",
        "\n",
        "print(model.summary())"
      ],
      "execution_count": null,
      "outputs": [
        {
          "output_type": "stream",
          "text": [
            "Model: \"sequential\"\n",
            "_________________________________________________________________\n",
            "Layer (type)                 Output Shape              Param #   \n",
            "=================================================================\n",
            "dense (Dense)                (None, 12)                168       \n",
            "_________________________________________________________________\n",
            "dense_1 (Dense)              (None, 12)                156       \n",
            "_________________________________________________________________\n",
            "dense_2 (Dense)              (None, 1)                 13        \n",
            "=================================================================\n",
            "Total params: 337\n",
            "Trainable params: 337\n",
            "Non-trainable params: 0\n",
            "_________________________________________________________________\n",
            "None\n"
          ],
          "name": "stdout"
        }
      ]
    },
    {
      "cell_type": "code",
      "metadata": {
        "id": "UhX23-05-Nbx"
      },
      "source": [
        "#Validation on 150 samples\n",
        "x_val = X_train[:150]\n",
        "partial_x_train = X_train[150:]\n",
        "\n",
        "y_val = y_train[:150]\n",
        "partial_y_train = y_train[150:]"
      ],
      "execution_count": null,
      "outputs": []
    },
    {
      "cell_type": "code",
      "metadata": {
        "id": "J9Nbl0n40kdz",
        "colab": {
          "base_uri": "https://localhost:8080/"
        },
        "outputId": "cacdb173-30f7-4924-c6b6-c7fe0dc6a789"
      },
      "source": [
        "history = model.fit(partial_x_train,partial_y_train,epochs=75,batch_size=12,validation_data=(x_val, y_val))"
      ],
      "execution_count": null,
      "outputs": [
        {
          "output_type": "stream",
          "text": [
            "Epoch 1/75\n",
            "52/52 [==============================] - 16s 12ms/step - loss: 0.6078 - accuracy: 0.6490 - val_loss: 0.5642 - val_accuracy: 0.7333\n",
            "Epoch 2/75\n",
            "52/52 [==============================] - 0s 2ms/step - loss: 0.5099 - accuracy: 0.7813 - val_loss: 0.4913 - val_accuracy: 0.7667\n",
            "Epoch 3/75\n",
            "52/52 [==============================] - 0s 2ms/step - loss: 0.4786 - accuracy: 0.7675 - val_loss: 0.4462 - val_accuracy: 0.7667\n",
            "Epoch 4/75\n",
            "52/52 [==============================] - 0s 2ms/step - loss: 0.4237 - accuracy: 0.8016 - val_loss: 0.4155 - val_accuracy: 0.7933\n",
            "Epoch 5/75\n",
            "52/52 [==============================] - 0s 2ms/step - loss: 0.4074 - accuracy: 0.8165 - val_loss: 0.3943 - val_accuracy: 0.8267\n",
            "Epoch 6/75\n",
            "52/52 [==============================] - 0s 2ms/step - loss: 0.4053 - accuracy: 0.7875 - val_loss: 0.3751 - val_accuracy: 0.8267\n",
            "Epoch 7/75\n",
            "52/52 [==============================] - 0s 2ms/step - loss: 0.4148 - accuracy: 0.7916 - val_loss: 0.3528 - val_accuracy: 0.8800\n",
            "Epoch 8/75\n",
            "52/52 [==============================] - 0s 2ms/step - loss: 0.3666 - accuracy: 0.8133 - val_loss: 0.3428 - val_accuracy: 0.8933\n",
            "Epoch 9/75\n",
            "52/52 [==============================] - 0s 2ms/step - loss: 0.3280 - accuracy: 0.8782 - val_loss: 0.3367 - val_accuracy: 0.9000\n",
            "Epoch 10/75\n",
            "52/52 [==============================] - 0s 2ms/step - loss: 0.3524 - accuracy: 0.8519 - val_loss: 0.3269 - val_accuracy: 0.9000\n",
            "Epoch 11/75\n",
            "52/52 [==============================] - 0s 2ms/step - loss: 0.2885 - accuracy: 0.8859 - val_loss: 0.3248 - val_accuracy: 0.9000\n",
            "Epoch 12/75\n",
            "52/52 [==============================] - 0s 2ms/step - loss: 0.3350 - accuracy: 0.8408 - val_loss: 0.3100 - val_accuracy: 0.8933\n",
            "Epoch 13/75\n",
            "52/52 [==============================] - 0s 2ms/step - loss: 0.3634 - accuracy: 0.8437 - val_loss: 0.3071 - val_accuracy: 0.9000\n",
            "Epoch 14/75\n",
            "52/52 [==============================] - 0s 2ms/step - loss: 0.3106 - accuracy: 0.8553 - val_loss: 0.3032 - val_accuracy: 0.9000\n",
            "Epoch 15/75\n",
            "52/52 [==============================] - 0s 2ms/step - loss: 0.3189 - accuracy: 0.8649 - val_loss: 0.2968 - val_accuracy: 0.9000\n",
            "Epoch 16/75\n",
            "52/52 [==============================] - 0s 2ms/step - loss: 0.2922 - accuracy: 0.8769 - val_loss: 0.2939 - val_accuracy: 0.9000\n",
            "Epoch 17/75\n",
            "52/52 [==============================] - 0s 2ms/step - loss: 0.3062 - accuracy: 0.8693 - val_loss: 0.2899 - val_accuracy: 0.8933\n",
            "Epoch 18/75\n",
            "52/52 [==============================] - 0s 2ms/step - loss: 0.2672 - accuracy: 0.8918 - val_loss: 0.2902 - val_accuracy: 0.9000\n",
            "Epoch 19/75\n",
            "52/52 [==============================] - 0s 2ms/step - loss: 0.2690 - accuracy: 0.8804 - val_loss: 0.2870 - val_accuracy: 0.9067\n",
            "Epoch 20/75\n",
            "52/52 [==============================] - 0s 2ms/step - loss: 0.2859 - accuracy: 0.8666 - val_loss: 0.2823 - val_accuracy: 0.9067\n",
            "Epoch 21/75\n",
            "52/52 [==============================] - 0s 2ms/step - loss: 0.2920 - accuracy: 0.8934 - val_loss: 0.2792 - val_accuracy: 0.9133\n",
            "Epoch 22/75\n",
            "52/52 [==============================] - 0s 2ms/step - loss: 0.2984 - accuracy: 0.8628 - val_loss: 0.2790 - val_accuracy: 0.9000\n",
            "Epoch 23/75\n",
            "52/52 [==============================] - 0s 2ms/step - loss: 0.3035 - accuracy: 0.8593 - val_loss: 0.2758 - val_accuracy: 0.9000\n",
            "Epoch 24/75\n",
            "52/52 [==============================] - 0s 2ms/step - loss: 0.2498 - accuracy: 0.9010 - val_loss: 0.2735 - val_accuracy: 0.9000\n",
            "Epoch 25/75\n",
            "52/52 [==============================] - 0s 2ms/step - loss: 0.2827 - accuracy: 0.8781 - val_loss: 0.2699 - val_accuracy: 0.8933\n",
            "Epoch 26/75\n",
            "52/52 [==============================] - 0s 2ms/step - loss: 0.2475 - accuracy: 0.8947 - val_loss: 0.2696 - val_accuracy: 0.8933\n",
            "Epoch 27/75\n",
            "52/52 [==============================] - 0s 2ms/step - loss: 0.2410 - accuracy: 0.8952 - val_loss: 0.2712 - val_accuracy: 0.9000\n",
            "Epoch 28/75\n",
            "52/52 [==============================] - 0s 2ms/step - loss: 0.2340 - accuracy: 0.9098 - val_loss: 0.2620 - val_accuracy: 0.9000\n",
            "Epoch 29/75\n",
            "52/52 [==============================] - 0s 2ms/step - loss: 0.2543 - accuracy: 0.8809 - val_loss: 0.2669 - val_accuracy: 0.9067\n",
            "Epoch 30/75\n",
            "52/52 [==============================] - 0s 2ms/step - loss: 0.2433 - accuracy: 0.8893 - val_loss: 0.2644 - val_accuracy: 0.9000\n",
            "Epoch 31/75\n",
            "52/52 [==============================] - 0s 2ms/step - loss: 0.2643 - accuracy: 0.8910 - val_loss: 0.2626 - val_accuracy: 0.9133\n",
            "Epoch 32/75\n",
            "52/52 [==============================] - 0s 2ms/step - loss: 0.2279 - accuracy: 0.9199 - val_loss: 0.2605 - val_accuracy: 0.9133\n",
            "Epoch 33/75\n",
            "52/52 [==============================] - 0s 2ms/step - loss: 0.2304 - accuracy: 0.9011 - val_loss: 0.2569 - val_accuracy: 0.9200\n",
            "Epoch 34/75\n",
            "52/52 [==============================] - 0s 2ms/step - loss: 0.2135 - accuracy: 0.9073 - val_loss: 0.2557 - val_accuracy: 0.9200\n",
            "Epoch 35/75\n",
            "52/52 [==============================] - 0s 2ms/step - loss: 0.2120 - accuracy: 0.9021 - val_loss: 0.2542 - val_accuracy: 0.9200\n",
            "Epoch 36/75\n",
            "52/52 [==============================] - 0s 2ms/step - loss: 0.2241 - accuracy: 0.8991 - val_loss: 0.2528 - val_accuracy: 0.9200\n",
            "Epoch 37/75\n",
            "52/52 [==============================] - 0s 2ms/step - loss: 0.2033 - accuracy: 0.9154 - val_loss: 0.2497 - val_accuracy: 0.9200\n",
            "Epoch 38/75\n",
            "52/52 [==============================] - 0s 2ms/step - loss: 0.2077 - accuracy: 0.9215 - val_loss: 0.2510 - val_accuracy: 0.9200\n",
            "Epoch 39/75\n",
            "52/52 [==============================] - 0s 2ms/step - loss: 0.1962 - accuracy: 0.9209 - val_loss: 0.2550 - val_accuracy: 0.9133\n",
            "Epoch 40/75\n",
            "52/52 [==============================] - 0s 2ms/step - loss: 0.1981 - accuracy: 0.9179 - val_loss: 0.2539 - val_accuracy: 0.9200\n",
            "Epoch 41/75\n",
            "52/52 [==============================] - 0s 2ms/step - loss: 0.2084 - accuracy: 0.9143 - val_loss: 0.2498 - val_accuracy: 0.9200\n",
            "Epoch 42/75\n",
            "52/52 [==============================] - 0s 2ms/step - loss: 0.2085 - accuracy: 0.9236 - val_loss: 0.2496 - val_accuracy: 0.9200\n",
            "Epoch 43/75\n",
            "52/52 [==============================] - 0s 2ms/step - loss: 0.2129 - accuracy: 0.9014 - val_loss: 0.2546 - val_accuracy: 0.9133\n",
            "Epoch 44/75\n",
            "52/52 [==============================] - 0s 2ms/step - loss: 0.1921 - accuracy: 0.9117 - val_loss: 0.2505 - val_accuracy: 0.9067\n",
            "Epoch 45/75\n",
            "52/52 [==============================] - 0s 2ms/step - loss: 0.1945 - accuracy: 0.9257 - val_loss: 0.2541 - val_accuracy: 0.9067\n",
            "Epoch 46/75\n",
            "52/52 [==============================] - 0s 2ms/step - loss: 0.1969 - accuracy: 0.9140 - val_loss: 0.2488 - val_accuracy: 0.9267\n",
            "Epoch 47/75\n",
            "52/52 [==============================] - 0s 2ms/step - loss: 0.1791 - accuracy: 0.9170 - val_loss: 0.2496 - val_accuracy: 0.9067\n",
            "Epoch 48/75\n",
            "52/52 [==============================] - 0s 2ms/step - loss: 0.1693 - accuracy: 0.9263 - val_loss: 0.2485 - val_accuracy: 0.9133\n",
            "Epoch 49/75\n",
            "52/52 [==============================] - 0s 2ms/step - loss: 0.1866 - accuracy: 0.9255 - val_loss: 0.2516 - val_accuracy: 0.9067\n",
            "Epoch 50/75\n",
            "52/52 [==============================] - 0s 2ms/step - loss: 0.1718 - accuracy: 0.9338 - val_loss: 0.2546 - val_accuracy: 0.9067\n",
            "Epoch 51/75\n",
            "52/52 [==============================] - 0s 2ms/step - loss: 0.1396 - accuracy: 0.9498 - val_loss: 0.2520 - val_accuracy: 0.9067\n",
            "Epoch 52/75\n",
            "52/52 [==============================] - 0s 2ms/step - loss: 0.1856 - accuracy: 0.9286 - val_loss: 0.2617 - val_accuracy: 0.9133\n",
            "Epoch 53/75\n",
            "52/52 [==============================] - 0s 2ms/step - loss: 0.2040 - accuracy: 0.9148 - val_loss: 0.2508 - val_accuracy: 0.9067\n",
            "Epoch 54/75\n",
            "52/52 [==============================] - 0s 2ms/step - loss: 0.1839 - accuracy: 0.9357 - val_loss: 0.2558 - val_accuracy: 0.9067\n",
            "Epoch 55/75\n",
            "52/52 [==============================] - 0s 2ms/step - loss: 0.1761 - accuracy: 0.9347 - val_loss: 0.2547 - val_accuracy: 0.9133\n",
            "Epoch 56/75\n",
            "52/52 [==============================] - 0s 2ms/step - loss: 0.1394 - accuracy: 0.9623 - val_loss: 0.2532 - val_accuracy: 0.9133\n",
            "Epoch 57/75\n",
            "52/52 [==============================] - 0s 2ms/step - loss: 0.1593 - accuracy: 0.9456 - val_loss: 0.2577 - val_accuracy: 0.9133\n",
            "Epoch 58/75\n",
            "52/52 [==============================] - 0s 2ms/step - loss: 0.1788 - accuracy: 0.9388 - val_loss: 0.2597 - val_accuracy: 0.9133\n",
            "Epoch 59/75\n",
            "52/52 [==============================] - 0s 2ms/step - loss: 0.1423 - accuracy: 0.9570 - val_loss: 0.2542 - val_accuracy: 0.9133\n",
            "Epoch 60/75\n",
            "52/52 [==============================] - 0s 2ms/step - loss: 0.1400 - accuracy: 0.9516 - val_loss: 0.2525 - val_accuracy: 0.9133\n",
            "Epoch 61/75\n",
            "52/52 [==============================] - 0s 2ms/step - loss: 0.1873 - accuracy: 0.9375 - val_loss: 0.2506 - val_accuracy: 0.9200\n",
            "Epoch 62/75\n",
            "52/52 [==============================] - 0s 2ms/step - loss: 0.2061 - accuracy: 0.9379 - val_loss: 0.2622 - val_accuracy: 0.9133\n",
            "Epoch 63/75\n",
            "52/52 [==============================] - 0s 2ms/step - loss: 0.1570 - accuracy: 0.9499 - val_loss: 0.2578 - val_accuracy: 0.9133\n",
            "Epoch 64/75\n",
            "52/52 [==============================] - 0s 2ms/step - loss: 0.1693 - accuracy: 0.9517 - val_loss: 0.2583 - val_accuracy: 0.9133\n",
            "Epoch 65/75\n",
            "52/52 [==============================] - 0s 2ms/step - loss: 0.1314 - accuracy: 0.9527 - val_loss: 0.2525 - val_accuracy: 0.9133\n",
            "Epoch 66/75\n",
            "52/52 [==============================] - 0s 2ms/step - loss: 0.1563 - accuracy: 0.9437 - val_loss: 0.2590 - val_accuracy: 0.9133\n",
            "Epoch 67/75\n",
            "52/52 [==============================] - 0s 2ms/step - loss: 0.1225 - accuracy: 0.9645 - val_loss: 0.2566 - val_accuracy: 0.9133\n",
            "Epoch 68/75\n",
            "52/52 [==============================] - 0s 2ms/step - loss: 0.1259 - accuracy: 0.9612 - val_loss: 0.2585 - val_accuracy: 0.9133\n",
            "Epoch 69/75\n",
            "52/52 [==============================] - 0s 2ms/step - loss: 0.1143 - accuracy: 0.9680 - val_loss: 0.2602 - val_accuracy: 0.9133\n",
            "Epoch 70/75\n",
            "52/52 [==============================] - 0s 2ms/step - loss: 0.1309 - accuracy: 0.9553 - val_loss: 0.2523 - val_accuracy: 0.9200\n",
            "Epoch 71/75\n",
            "52/52 [==============================] - 0s 2ms/step - loss: 0.1381 - accuracy: 0.9525 - val_loss: 0.2531 - val_accuracy: 0.9133\n",
            "Epoch 72/75\n",
            "52/52 [==============================] - 0s 2ms/step - loss: 0.1409 - accuracy: 0.9550 - val_loss: 0.2598 - val_accuracy: 0.9200\n",
            "Epoch 73/75\n",
            "52/52 [==============================] - 0s 2ms/step - loss: 0.1383 - accuracy: 0.9651 - val_loss: 0.2523 - val_accuracy: 0.9200\n",
            "Epoch 74/75\n",
            "52/52 [==============================] - 0s 2ms/step - loss: 0.1373 - accuracy: 0.9528 - val_loss: 0.2541 - val_accuracy: 0.9200\n",
            "Epoch 75/75\n",
            "52/52 [==============================] - 0s 2ms/step - loss: 0.1108 - accuracy: 0.9678 - val_loss: 0.2525 - val_accuracy: 0.9133\n"
          ],
          "name": "stdout"
        }
      ]
    },
    {
      "cell_type": "markdown",
      "metadata": {
        "id": "9IFemtpHpmN0"
      },
      "source": [
        "#Analysis of the results"
      ]
    },
    {
      "cell_type": "code",
      "metadata": {
        "id": "pHC9M0605XEA",
        "colab": {
          "base_uri": "https://localhost:8080/"
        },
        "outputId": "83d2ec48-7489-46e9-a705-ea72f70fbb7a"
      },
      "source": [
        "history_dict = history.history\n",
        "history_dict.keys()"
      ],
      "execution_count": null,
      "outputs": [
        {
          "output_type": "execute_result",
          "data": {
            "text/plain": [
              "dict_keys(['loss', 'accuracy', 'val_loss', 'val_accuracy'])"
            ]
          },
          "metadata": {
            "tags": []
          },
          "execution_count": 20
        }
      ]
    },
    {
      "cell_type": "code",
      "metadata": {
        "id": "rHpGgJqv1j0R",
        "colab": {
          "base_uri": "https://localhost:8080/",
          "height": 458
        },
        "outputId": "3f0550b2-4d31-43d3-8507-a246c6adce15"
      },
      "source": [
        "import matplotlib.pyplot as plt\n",
        "\n",
        "acc = history.history['accuracy']\n",
        "loss = history.history['loss']\n",
        "val_loss = history.history['val_loss']\n",
        "\n",
        "epochs = range(1, len(acc) + 1)\n",
        "\n",
        "#The parameter 'bo' defines the dashed line in the form of blue dots.\n",
        "plt.plot(epochs, loss, 'bo', label='Training loss')\n",
        "#The parameter 'b' defines a solid blue line.\n",
        "plt.plot(epochs, val_loss, 'b', label='Validation loss')\n",
        "plt.title('Loss of training and validation')\n",
        "plt.xlabel('Epochs')\n",
        "plt.ylabel('Loss')\n",
        "plt.legend()\n",
        "\n",
        "plt.show()"
      ],
      "execution_count": null,
      "outputs": [
        {
          "output_type": "display_data",
          "data": {
            "image/png": "[encoded data removed]",
            "text/plain": [
              "<Figure size 720x504 with 1 Axes>"
            ]
          },
          "metadata": {
            "tags": [],
            "needs_background": "light"
          }
        }
      ]
    },
    {
      "cell_type": "code",
      "metadata": {
        "id": "KgTIakfe1r2E",
        "colab": {
          "base_uri": "https://localhost:8080/",
          "height": 458
        },
        "outputId": "0bc7b02f-ad7d-4d53-c05a-ac7835cfc552"
      },
      "source": [
        "plt.clf() #Cleaning up the drawing\n",
        "acc_values = history_dict['accuracy']\n",
        "\n",
        "plt.plot(epochs, acc, 'bo', label='Accuracy of training')\n",
        "plt.title('Accuracy of training')\n",
        "plt.xlabel('Epochs')\n",
        "plt.ylabel('Loss')\n",
        "plt.legend()\n",
        "\n",
        "plt.show()"
      ],
      "execution_count": null,
      "outputs": [
        {
          "output_type": "display_data",
          "data": {
            "image/png": "[encoded data removed]",
            "text/plain": [
              "<Figure size 720x504 with 1 Axes>"
            ]
          },
          "metadata": {
            "tags": [],
            "needs_background": "light"
          }
        }
      ]
    },
    {
      "cell_type": "code",
      "metadata": {
        "id": "gpfz6murE3UF",
        "colab": {
          "base_uri": "https://localhost:8080/",
          "height": 458
        },
        "outputId": "7f995faa-23c2-4e76-cb7c-3ce289942231"
      },
      "source": [
        "from matplotlib import pyplot as plt\n",
        "plt.plot(history.history['accuracy'],'green')\n",
        "plt.plot(history.history['loss'],'red')\n",
        "plt.title('Accuracy-loss model')\n",
        "plt.xlabel('Epochs')\n",
        "plt.legend(['Accuracy','Loss function'])\n",
        "plt.show()"
      ],
      "execution_count": null,
      "outputs": [
        {
          "output_type": "display_data",
          "data": {
            "image/png": "[encoded data removed]",
            "text/plain": [
              "<Figure size 720x504 with 1 Axes>"
            ]
          },
          "metadata": {
            "tags": [],
            "needs_background": "light"
          }
        }
      ]
    },
    {
      "cell_type": "code",
      "metadata": {
        "id": "Hf1bjMG_FBTK",
        "colab": {
          "base_uri": "https://localhost:8080/"
        },
        "outputId": "b4d327b5-044c-4f9a-fb15-49d1df7ab761"
      },
      "source": [
        "#Predict test suite results\n",
        "from sklearn.metrics import confusion_matrix, accuracy_score, classification_report\n",
        "\n",
        "y_pred = model.predict(X_test)\n",
        "y_pred = (y_pred>0.5) #Because the output is a probability\n",
        "cm = confusion_matrix(y_test,y_pred)\n",
        "accuracy = accuracy_score(y_test,y_pred)\n",
        "print(classification_report(y_test, y_pred))\n",
        "print(\"Classification (neural network):\")\n",
        "print(\"Accuracy = \", accuracy)\n",
        "print(cm)"
      ],
      "execution_count": null,
      "outputs": [
        {
          "output_type": "stream",
          "text": [
            "              precision    recall  f1-score   support\n",
            "\n",
            "           0       0.98      0.95      0.97       123\n",
            "           1       0.96      0.99      0.97       134\n",
            "\n",
            "    accuracy                           0.97       257\n",
            "   macro avg       0.97      0.97      0.97       257\n",
            "weighted avg       0.97      0.97      0.97       257\n",
            "\n",
            "Classification (neural network):\n",
            "Accuracy =  0.9688715953307393\n",
            "[[117   6]\n",
            " [  2 132]]\n"
          ],
          "name": "stdout"
        }
      ]
    }
  ]
}